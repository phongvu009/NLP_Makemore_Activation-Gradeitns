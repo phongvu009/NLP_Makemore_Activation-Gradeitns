{
  "nbformat": 4,
  "nbformat_minor": 0,
  "metadata": {
    "colab": {
      "provenance": [],
      "authorship_tag": "ABX9TyNmlsL2jEBSsNlPPE/a5DJ9",
      "include_colab_link": true
    },
    "kernelspec": {
      "name": "python3",
      "display_name": "Python 3"
    },
    "language_info": {
      "name": "python"
    }
  },
  "cells": [
    {
      "cell_type": "markdown",
      "metadata": {
        "id": "view-in-github",
        "colab_type": "text"
      },
      "source": [
        "<a href=\"https://colab.research.google.com/github/phongvu009/NLP_Makemore_BatchNorm/blob/main/nlp_batch_norm_2.ipynb\" target=\"_parent\"><img src=\"https://colab.research.google.com/assets/colab-badge.svg\" alt=\"Open In Colab\"/></a>"
      ]
    },
    {
      "cell_type": "code",
      "execution_count": 14,
      "metadata": {
        "id": "l2s3K74iQSoC"
      },
      "outputs": [],
      "source": [
        "import torch\n",
        "import torch.nn.functional as F\n",
        "import matplotlib.pyplot as plt\n",
        "%matplotlib inline"
      ]
    },
    {
      "cell_type": "markdown",
      "source": [
        "## Data"
      ],
      "metadata": {
        "id": "KKi509RuQeFQ"
      }
    },
    {
      "cell_type": "code",
      "source": [
        "# download the names.txt file from github\n",
        "!wget https://raw.githubusercontent.com/karpathy/makemore/master/names.txt"
      ],
      "metadata": {
        "colab": {
          "base_uri": "https://localhost:8080/"
        },
        "id": "0KqWalKpQdHO",
        "outputId": "4dcec96e-c03a-4418-ebe0-3b531939835e"
      },
      "execution_count": 15,
      "outputs": [
        {
          "output_type": "stream",
          "name": "stdout",
          "text": [
            "--2023-07-19 20:23:15--  https://raw.githubusercontent.com/karpathy/makemore/master/names.txt\n",
            "Resolving raw.githubusercontent.com (raw.githubusercontent.com)... 185.199.109.133, 185.199.108.133, 185.199.111.133, ...\n",
            "Connecting to raw.githubusercontent.com (raw.githubusercontent.com)|185.199.109.133|:443... connected.\n",
            "HTTP request sent, awaiting response... 200 OK\n",
            "Length: 228145 (223K) [text/plain]\n",
            "Saving to: ‘names.txt.1’\n",
            "\n",
            "\rnames.txt.1           0%[                    ]       0  --.-KB/s               \rnames.txt.1         100%[===================>] 222.80K  --.-KB/s    in 0.02s   \n",
            "\n",
            "2023-07-19 20:23:15 (11.9 MB/s) - ‘names.txt.1’ saved [228145/228145]\n",
            "\n"
          ]
        }
      ]
    },
    {
      "cell_type": "code",
      "source": [
        "words = open('names.txt', mode='r').read().splitlines()\n",
        "words[:10]"
      ],
      "metadata": {
        "colab": {
          "base_uri": "https://localhost:8080/"
        },
        "id": "SEM1Rrs_QlC9",
        "outputId": "f1bca681-5521-435f-f057-d539d5dfab90"
      },
      "execution_count": 16,
      "outputs": [
        {
          "output_type": "execute_result",
          "data": {
            "text/plain": [
              "['emma',\n",
              " 'olivia',\n",
              " 'ava',\n",
              " 'isabella',\n",
              " 'sophia',\n",
              " 'charlotte',\n",
              " 'mia',\n",
              " 'amelia',\n",
              " 'harper',\n",
              " 'evelyn']"
            ]
          },
          "metadata": {},
          "execution_count": 16
        }
      ]
    },
    {
      "cell_type": "code",
      "source": [
        "alphabet = sorted(list(set(''.join(words))))\n",
        "\n",
        "#string to index dict\n",
        "stoi = {char:idx+1 for idx,char in enumerate(alphabet)}\n",
        "# add special character\n",
        "stoi['.'] = 0\n",
        "\n",
        "# index to string dict\n",
        "itos = { idx:char for char,idx in  stoi.items()}\n",
        "print(itos)"
      ],
      "metadata": {
        "colab": {
          "base_uri": "https://localhost:8080/"
        },
        "id": "dFAnS2ASQyFE",
        "outputId": "5155a370-c800-481d-f691-7ff49a531359"
      },
      "execution_count": 17,
      "outputs": [
        {
          "output_type": "stream",
          "name": "stdout",
          "text": [
            "{1: 'a', 2: 'b', 3: 'c', 4: 'd', 5: 'e', 6: 'f', 7: 'g', 8: 'h', 9: 'i', 10: 'j', 11: 'k', 12: 'l', 13: 'm', 14: 'n', 15: 'o', 16: 'p', 17: 'q', 18: 'r', 19: 's', 20: 't', 21: 'u', 22: 'v', 23: 'w', 24: 'x', 25: 'y', 26: 'z', 0: '.'}\n"
          ]
        }
      ]
    },
    {
      "cell_type": "code",
      "source": [],
      "metadata": {
        "id": "dhCXsVDBRsPD"
      },
      "execution_count": 17,
      "outputs": []
    },
    {
      "cell_type": "markdown",
      "source": [
        "## Build Dataset"
      ],
      "metadata": {
        "id": "Sn8Hq92vRvTL"
      }
    },
    {
      "cell_type": "code",
      "source": [
        "import random"
      ],
      "metadata": {
        "id": "OZJwtXfHRx6X"
      },
      "execution_count": 18,
      "outputs": []
    },
    {
      "cell_type": "code",
      "source": [
        "block_size =3\n",
        "\n",
        "def build_dataset(words):\n",
        "  X, Y = [],[]\n",
        "  for word in words :\n",
        "    # start with 0\n",
        "    context = [0] * block_size\n",
        "    for char in word + '.':\n",
        "      #get index\n",
        "      idx = stoi[char]\n",
        "      X.append(context)\n",
        "      Y.append(idx)\n",
        "      #update context\n",
        "      context = context[1:] + [idx]\n",
        "  #transform the dataset to tensor\n",
        "  X = torch.tensor(X)\n",
        "  Y = torch.tensor(Y)\n",
        "  print(X.shape,Y.shape)\n",
        "  return X,Y"
      ],
      "metadata": {
        "id": "KpkANP8CRywD"
      },
      "execution_count": 19,
      "outputs": []
    },
    {
      "cell_type": "code",
      "source": [
        "random.seed(42)\n",
        "random.shuffle(words)\n",
        "print(len(words))\n",
        "\n",
        "n_1 = int(0.8 * len(words))\n",
        "print(n_1)\n",
        "\n",
        "n_2 = int(0.9 * len(words))\n",
        "print(n_2)"
      ],
      "metadata": {
        "colab": {
          "base_uri": "https://localhost:8080/"
        },
        "id": "ahuXvgt6SxD5",
        "outputId": "098e834d-b167-4d80-afbf-555745659f52"
      },
      "execution_count": 20,
      "outputs": [
        {
          "output_type": "stream",
          "name": "stdout",
          "text": [
            "32033\n",
            "25626\n",
            "28829\n"
          ]
        }
      ]
    },
    {
      "cell_type": "code",
      "source": [
        "# Train dataset : 80%\n",
        "X_train, Y_train = build_dataset(words[:n_1])\n",
        "\n",
        "# Dev/Validation dataset: 10%\n",
        "X_dev , Y_dev = build_dataset(words[n_1:n_2])\n",
        "\n",
        "# Test dataset : 10%\n",
        "X_test , Y_test = build_dataset(words[n_2:])"
      ],
      "metadata": {
        "colab": {
          "base_uri": "https://localhost:8080/"
        },
        "id": "ZKwKV4HuTBk1",
        "outputId": "6756a09b-9f60-4e79-bbee-9a0e3849e7fc"
      },
      "execution_count": 21,
      "outputs": [
        {
          "output_type": "stream",
          "name": "stdout",
          "text": [
            "torch.Size([182625, 3]) torch.Size([182625])\n",
            "torch.Size([22655, 3]) torch.Size([22655])\n",
            "torch.Size([22866, 3]) torch.Size([22866])\n"
          ]
        }
      ]
    },
    {
      "cell_type": "markdown",
      "source": [
        "## Pre-Train: Weight Initialization\n",
        "- Using square root of fanin: https://pytorch.org/docs/stable/nn.init.html"
      ],
      "metadata": {
        "id": "rRZcQ0OcTpnH"
      }
    },
    {
      "cell_type": "code",
      "source": [
        "vocab_size = len(itos) # all labels\n",
        "n_embd = 10 #dimension of embedding\n",
        "n_hidden = 200 # the number of neurons in hidden layer"
      ],
      "metadata": {
        "id": "Sgmc8bCSTN_g"
      },
      "execution_count": 22,
      "outputs": []
    },
    {
      "cell_type": "code",
      "source": [
        "g = torch.Generator().manual_seed(2147483647)\n",
        "\n",
        "C = torch.randn( (vocab_size, n_embd), generator=g) # For embbeding layer (27,1) -> (27,10)\n",
        "\n",
        "W1 = torch.randn( (n_embd * block_size, n_hidden), generator=g) * (5/3)/(n_embd * block_size)**0.5\n",
        "b1 = torch.randn( n_hidden, generator=g) * 0.01\n",
        "\n",
        "W2 = torch.randn( (n_hidden, vocab_size), generator=g) * 0.01\n",
        "b2 = torch.randn( vocab_size, generator=g) * 0\n",
        "\n",
        "# BatchNorm parameters\n",
        "bngain = torch.ones( (1,n_hidden))\n",
        "bnbias = torch.zeros( (1,n_hidden))\n",
        "bnmean_running = torch.zeros( (1,n_hidden))\n",
        "bnstd_running = torch.ones((1,n_hidden))\n"
      ],
      "metadata": {
        "id": "d1hjHGAfUB3h"
      },
      "execution_count": 23,
      "outputs": []
    },
    {
      "cell_type": "code",
      "source": [
        "parameters = [C,W1,b1,W2,b2,bngain, bnbias]\n",
        "print(sum(p.nelement() for p in parameters))"
      ],
      "metadata": {
        "colab": {
          "base_uri": "https://localhost:8080/"
        },
        "id": "PaeRKyd_VHMt",
        "outputId": "fa7d8317-bef1-49ab-fd30-9d1df18bb062"
      },
      "execution_count": 24,
      "outputs": [
        {
          "output_type": "stream",
          "name": "stdout",
          "text": [
            "12297\n"
          ]
        }
      ]
    },
    {
      "cell_type": "code",
      "source": [
        "#require gradient\n",
        "for p in parameters:\n",
        "  p.requires_grad = True"
      ],
      "metadata": {
        "id": "w_AjLLi6VTlq"
      },
      "execution_count": 25,
      "outputs": []
    },
    {
      "cell_type": "markdown",
      "source": [
        "## Training"
      ],
      "metadata": {
        "id": "m910--rCWVG4"
      }
    },
    {
      "cell_type": "markdown",
      "source": [
        "- Batch Norm :\n",
        "  - In static, Standardization :  is to substract the mean and then dividing by its standard deviation. Make mean is 0 , std=1\n",
        "  - In algebra, Normalizatin: Collapse inputs to be in a range. It can be -1,1 or 0,1\n",
        "  - Bias b1 will be useseless. bnbias will be in charge\n",
        "  - Momentum should be increase when batch_size increase"
      ],
      "metadata": {
        "id": "eYOzpTvrtuc9"
      }
    },
    {
      "cell_type": "code",
      "source": [],
      "metadata": {
        "id": "H3TNAcHs5Xwz"
      },
      "execution_count": 25,
      "outputs": []
    },
    {
      "cell_type": "code",
      "source": [
        "max_steps = 200000\n",
        "batch_size = 32\n",
        "lossi = []\n",
        "stepi = []\n",
        "momentum = 0.001\n",
        "for i in range(max_steps):\n",
        "  #create random mini-batch\n",
        "  ix = torch.randint(0, X_train.shape[0], (batch_size,), generator=g)\n",
        "  Xb,Yb = X_train[ix], Y_train[ix]\n",
        "  #forward pass\n",
        "  emb = C[Xb] # 32x3x10\n",
        "  #flat data\n",
        "  emb_flat = emb.view(emb.shape[0],-1) #32x30\n",
        "  h_preact = emb_flat @ W1  #+ b1\n",
        "  #-----------------------Apply BatchNorm----------------------\n",
        "  h_preact_mean = h_preact.mean(0,keepdim=True)\n",
        "  h_preact_std = h_preact.std(0,keepdim=True)\n",
        "  h_std = ( h_preact - h_preact_mean ) / h_preact_std\n",
        "  h_preact =  bngain *( h_std) + bnbias #unit gaussian for each neuron\n",
        "  with torch.no_grad():\n",
        "    bnmean_running = 0.999 * bnmean_running + momentum * h_preact_mean\n",
        "    bnstd_running = 0.999 * bnstd_running + momentum * h_preact_std\n",
        "  #-----------------------\n",
        "  h = torch.tanh(h_preact) #output hidden layer: 32 x 100\n",
        "  logits = h @ W2 + b2\n",
        "  loss = F.cross_entropy(logits,Yb)\n",
        "\n",
        "  #backward pass\n",
        "  for p in parameters: # reset gradients\n",
        "    p.grad = None\n",
        "  loss.backward()\n",
        "  #update\n",
        "  lr = 0.1 if i < 100000 else 0.01\n",
        "  for p in parameters:\n",
        "    p.data += -lr * p.grad\n",
        "  if i % 10000 == 0 : # watching loss\n",
        "    print(f'{i:7d}/{max_steps:7d} ------ {loss.item():4f}')\n",
        "  stepi.append(i)\n",
        "  lossi.append(loss.log().item())"
      ],
      "metadata": {
        "colab": {
          "base_uri": "https://localhost:8080/"
        },
        "id": "WAjEFYkKWTwa",
        "outputId": "0996dfc6-ce1f-4021-f57d-2dabaf5feaae"
      },
      "execution_count": 26,
      "outputs": [
        {
          "output_type": "stream",
          "name": "stdout",
          "text": [
            "      0/ 200000 ------ 3.314689\n",
            "  10000/ 200000 ------ 2.198443\n",
            "  20000/ 200000 ------ 2.337455\n",
            "  30000/ 200000 ------ 2.435885\n",
            "  40000/ 200000 ------ 2.011928\n",
            "  50000/ 200000 ------ 2.259472\n",
            "  60000/ 200000 ------ 2.477500\n",
            "  70000/ 200000 ------ 2.101999\n",
            "  80000/ 200000 ------ 2.278812\n",
            "  90000/ 200000 ------ 2.186207\n",
            " 100000/ 200000 ------ 1.947383\n",
            " 110000/ 200000 ------ 2.301028\n",
            " 120000/ 200000 ------ 1.983655\n",
            " 130000/ 200000 ------ 2.452322\n",
            " 140000/ 200000 ------ 2.383932\n",
            " 150000/ 200000 ------ 2.198680\n",
            " 160000/ 200000 ------ 1.973299\n",
            " 170000/ 200000 ------ 1.866808\n",
            " 180000/ 200000 ------ 1.997269\n",
            " 190000/ 200000 ------ 1.834683\n"
          ]
        }
      ]
    },
    {
      "cell_type": "code",
      "source": [
        "plt.plot(stepi,lossi)"
      ],
      "metadata": {
        "colab": {
          "base_uri": "https://localhost:8080/",
          "height": 448
        },
        "id": "pGYeSUjjoGiD",
        "outputId": "169b90ea-5221-4562-ffb0-af7b226b100e"
      },
      "execution_count": 27,
      "outputs": [
        {
          "output_type": "execute_result",
          "data": {
            "text/plain": [
              "[<matplotlib.lines.Line2D at 0x7dea369e0850>]"
            ]
          },
          "metadata": {},
          "execution_count": 27
        },
        {
          "output_type": "display_data",
          "data": {
            "text/plain": [
              "<Figure size 640x480 with 1 Axes>"
            ],
            "image/png": "[encoded data removed]"
          },
          "metadata": {}
        }
      ]
    },
    {
      "cell_type": "markdown",
      "source": [
        "## After Training Get Sample"
      ],
      "metadata": {
        "id": "a91tW9njxCvD"
      }
    },
    {
      "cell_type": "markdown",
      "source": [
        " ### Calculate mean and std for entire the dataset:\n",
        "- In training, the mean and std are calculated from batch\n",
        "- To get sample after training, it will required calulating mean and std for entire dataset . After that, a sample can be put into the net work"
      ],
      "metadata": {
        "id": "pDnaQkfsxNJ_"
      }
    },
    {
      "cell_type": "code",
      "source": [
        "with torch.no_grad():\n",
        "  #pass the training set through:\n",
        "  emb = C[X_train]\n",
        "  emb_flat = emb.view( emb.shape[0], -1)\n",
        "  h_preact = emb_flat @ W1 + b1\n",
        "  #measure the mean/std over intire the training set\n",
        "  bnmean = h_preact.mean(0, keepdim=True)\n",
        "  bnstd = h_preact.std(0,keepdim=True)"
      ],
      "metadata": {
        "id": "5o92HOqoxV26"
      },
      "execution_count": 32,
      "outputs": []
    },
    {
      "cell_type": "code",
      "source": [
        "@torch.no_grad()\n",
        "def data_stage_loss(data_stage):\n",
        "  x,y = {\n",
        "      'train': (X_train, Y_train),\n",
        "      'val' : (X_dev, Y_dev),\n",
        "      'test' : (X_test, Y_test)\n",
        "  }[data_stage]\n",
        "\n",
        "  emb = C[x] #(N,block_size, n_embd)\n",
        "  emb_flat = emb.view(emb.shape[0],-1)\n",
        "  h_preact = emb_flat @ W1 + b1\n",
        "  #Apply standardization\n",
        "  h_preact_mean = h_preact.mean(0,keepdim=True)\n",
        "  h_preact_std = h_preact.std(0,keepdim=True)\n",
        "  h_std = ( h_preact - bnmean ) / bnstd\n",
        "  h_preact =  bngain *( h_std) + bnbias #unit gaussian for each neuron\n",
        "  h = torch.tanh(h_preact)\n",
        "  logits = h @ W2 + b2\n",
        "  loss = F.cross_entropy(logits,y)\n",
        "  print(data_stage, loss.item())\n",
        "\n"
      ],
      "metadata": {
        "id": "oCK5JGPHpvI2"
      },
      "execution_count": 33,
      "outputs": []
    },
    {
      "cell_type": "code",
      "source": [
        "data_stage_loss('train')\n",
        "data_stage_loss('val')"
      ],
      "metadata": {
        "colab": {
          "base_uri": "https://localhost:8080/"
        },
        "id": "qCvYbeZUrZBo",
        "outputId": "55ec5473-d0b7-4e11-b465-9d7b34592707"
      },
      "execution_count": 34,
      "outputs": [
        {
          "output_type": "stream",
          "name": "stdout",
          "text": [
            "train 2.0668270587921143\n",
            "val 2.1049270629882812\n"
          ]
        }
      ]
    },
    {
      "cell_type": "code",
      "source": [],
      "metadata": {
        "id": "cy11btPfrhrC"
      },
      "execution_count": null,
      "outputs": []
    }
  ]
}